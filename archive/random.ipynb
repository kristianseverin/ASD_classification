{
 "cells": [
  {
   "cell_type": "code",
   "execution_count": 10,
   "metadata": {},
   "outputs": [
    {
     "data": {
      "text/plain": [
       "43.95"
      ]
     },
     "execution_count": 10,
     "metadata": {},
     "output_type": "execute_result"
    }
   ],
   "source": [
    "import pandas as pd\n",
    "from sklearn.model_selection import train_test_split\n",
    "\n",
    "# Import the dataframe\n",
    "data = pd.read_csv(\"/work/exam/ASD_classification/data/dataframes/data_eigstig_age3_text_label.csv\")\n",
    "\n",
    "# Split dataset into train, test, val (70, 15, 15)\n",
    "train, test = train_test_split(data, test_size=0.15)\n",
    "train, val = train_test_split(train, test_size=0.15)\n",
    "\n",
    "# Keep the number of neurons below N_h to avoid overfitting\n",
    "## Is that the total number of neurons, or just in the hidden layer?\n",
    "https://stats.stackexchange.com/questions/181/how-to-choose-the-number-of-hidden-layers-and-nodes-in-a-feedforward-neural-netw\n",
    "\n",
    "N_s = len(train)\n",
    "N_i = 2\n",
    "N_o = 2\n",
    "alpha = 10\n",
    "\n",
    "N_h = N_s / (alpha * (N_i + N_o))\n",
    "N_h\n",
    "\n",
    "# The highest number for alpha = 2 gives us around 218, and the lowest for alpha = 10 gives us 43"
   ]
  }
 ],
 "metadata": {
  "interpreter": {
   "hash": "31f2aee4e71d21fbe5cf8b01ff0e069b9275f58929596ceb00d14d90e3e16cd6"
  },
  "kernelspec": {
   "display_name": "Python 3.9.2 64-bit",
   "language": "python",
   "name": "python3"
  },
  "language_info": {
   "codemirror_mode": {
    "name": "ipython",
    "version": 3
   },
   "file_extension": ".py",
   "mimetype": "text/x-python",
   "name": "python",
   "nbconvert_exporter": "python",
   "pygments_lexer": "ipython3",
   "version": "3.9.2"
  },
  "orig_nbformat": 4
 },
 "nbformat": 4,
 "nbformat_minor": 2
}
