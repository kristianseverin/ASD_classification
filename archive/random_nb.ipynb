{
 "cells": [
  {
   "cell_type": "markdown",
   "metadata": {},
   "source": [
    "# Possible solution to assignment 3"
   ]
  },
  {
   "cell_type": "markdown",
   "metadata": {},
   "source": [
    "This notebook contains a worked solution to assignment 3, training a neural network classifier with ```pytorch```.\n",
    "\n",
    "Please note that this is *not* comprehensive - this is not then only solution, with all others being wrong. This is just a possible solution, based on me having spent some time looking at the data."
   ]
  },
  {
   "cell_type": "markdown",
   "metadata": {},
   "source": [
    "### Loading packages\n",
    "\n",
    "Note how here I'm using ```TfidfVectorizer()``` instead of ```CountVectorizer()```. This seemed to perform better empirically, producing smoother learning curves and higher accuracies on the test data."
   ]
  },
  {
   "cell_type": "code",
   "execution_count": 16,
   "metadata": {
    "execution": {
     "iopub.execute_input": "2022-10-13T11:45:49.822394Z",
     "iopub.status.busy": "2022-10-13T11:45:49.821695Z",
     "iopub.status.idle": "2022-10-13T11:45:51.478553Z",
     "shell.execute_reply": "2022-10-13T11:45:51.477804Z",
     "shell.execute_reply.started": "2022-10-13T11:45:49.822335Z"
    },
    "tags": []
   },
   "outputs": [
    {
     "name": "stdout",
     "output_type": "stream",
     "text": [
      "Defaulting to user installation because normal site-packages is not writeable\n",
      "Requirement already satisfied: pip in /usr/lib/python3/dist-packages (20.3.4)\n",
      "Collecting pip\n",
      "  Using cached pip-22.3.1-py3-none-any.whl (2.1 MB)\n",
      "Requirement already satisfied: datasets in /home/coder/.local/lib/python3.9/site-packages (2.7.1)\n",
      "Requirement already satisfied: torch in /home/coder/.local/lib/python3.9/site-packages (1.13.0)\n",
      "Requirement already satisfied: pyarrow>=6.0.0 in /home/coder/.local/lib/python3.9/site-packages (from datasets) (8.0.0)\n",
      "Requirement already satisfied: responses<0.19 in /home/coder/.local/lib/python3.9/site-packages (from datasets) (0.18.0)\n",
      "Requirement already satisfied: pyyaml>=5.1 in /home/coder/.local/lib/python3.9/site-packages (from datasets) (6.0)\n",
      "Requirement already satisfied: fsspec[http]>=2021.11.1 in /home/coder/.local/lib/python3.9/site-packages (from datasets) (2022.5.0)\n",
      "Requirement already satisfied: requests>=2.19.0 in /home/coder/.local/lib/python3.9/site-packages (from datasets) (2.28.1)\n",
      "Requirement already satisfied: pandas in /home/coder/.local/lib/python3.9/site-packages (from datasets) (1.4.3)\n",
      "Requirement already satisfied: tqdm>=4.62.1 in /home/coder/.local/lib/python3.9/site-packages (from datasets) (4.64.0)\n",
      "Requirement already satisfied: numpy>=1.17 in /home/coder/.local/lib/python3.9/site-packages (from datasets) (1.23.0)\n",
      "Requirement already satisfied: multiprocess in /home/coder/.local/lib/python3.9/site-packages (from datasets) (0.70.14)\n",
      "Requirement already satisfied: huggingface-hub<1.0.0,>=0.2.0 in /home/coder/.local/lib/python3.9/site-packages (from datasets) (0.11.1)\n",
      "Requirement already satisfied: packaging in /home/coder/.local/lib/python3.9/site-packages (from datasets) (21.3)\n",
      "Requirement already satisfied: aiohttp in /home/coder/.local/lib/python3.9/site-packages (from datasets) (3.8.3)\n",
      "Requirement already satisfied: dill<0.3.7 in /home/coder/.local/lib/python3.9/site-packages (from datasets) (0.3.6)\n",
      "Requirement already satisfied: xxhash in /home/coder/.local/lib/python3.9/site-packages (from datasets) (3.1.0)\n",
      "Requirement already satisfied: nvidia-cuda-nvrtc-cu11==11.7.99 in /home/coder/.local/lib/python3.9/site-packages (from torch) (11.7.99)\n",
      "Requirement already satisfied: nvidia-cuda-runtime-cu11==11.7.99 in /home/coder/.local/lib/python3.9/site-packages (from torch) (11.7.99)\n",
      "Requirement already satisfied: typing-extensions in /home/coder/.local/lib/python3.9/site-packages (from torch) (4.3.0)\n",
      "Requirement already satisfied: nvidia-cudnn-cu11==8.5.0.96 in /home/coder/.local/lib/python3.9/site-packages (from torch) (8.5.0.96)\n",
      "Requirement already satisfied: nvidia-cublas-cu11==11.10.3.66 in /home/coder/.local/lib/python3.9/site-packages (from torch) (11.10.3.66)\n",
      "Requirement already satisfied: wheel in /usr/lib/python3/dist-packages (from nvidia-cublas-cu11==11.10.3.66->torch) (0.34.2)\n",
      "Requirement already satisfied: setuptools in /usr/lib/python3/dist-packages (from nvidia-cublas-cu11==11.10.3.66->torch) (52.0.0)\n",
      "Requirement already satisfied: filelock in /home/coder/.local/lib/python3.9/site-packages (from huggingface-hub<1.0.0,>=0.2.0->datasets) (3.8.2)\n",
      "Requirement already satisfied: pyparsing!=3.0.5,>=2.0.2 in /home/coder/.local/lib/python3.9/site-packages (from packaging->datasets) (3.0.9)\n",
      "Requirement already satisfied: charset-normalizer<3,>=2 in /home/coder/.local/lib/python3.9/site-packages (from requests>=2.19.0->datasets) (2.1.0)\n",
      "Requirement already satisfied: idna<4,>=2.5 in /home/coder/.local/lib/python3.9/site-packages (from requests>=2.19.0->datasets) (3.3)\n",
      "Requirement already satisfied: certifi>=2017.4.17 in /home/coder/.local/lib/python3.9/site-packages (from requests>=2.19.0->datasets) (2022.6.15)\n",
      "Requirement already satisfied: urllib3<1.27,>=1.21.1 in /home/coder/.local/lib/python3.9/site-packages (from requests>=2.19.0->datasets) (1.26.9)\n",
      "Requirement already satisfied: yarl<2.0,>=1.0 in /home/coder/.local/lib/python3.9/site-packages (from aiohttp->datasets) (1.8.2)\n",
      "Requirement already satisfied: attrs>=17.3.0 in /home/coder/.local/lib/python3.9/site-packages (from aiohttp->datasets) (21.4.0)\n",
      "Requirement already satisfied: async-timeout<5.0,>=4.0.0a3 in /home/coder/.local/lib/python3.9/site-packages (from aiohttp->datasets) (4.0.2)\n",
      "Requirement already satisfied: aiosignal>=1.1.2 in /home/coder/.local/lib/python3.9/site-packages (from aiohttp->datasets) (1.3.1)\n",
      "Requirement already satisfied: frozenlist>=1.1.1 in /home/coder/.local/lib/python3.9/site-packages (from aiohttp->datasets) (1.3.3)\n",
      "Requirement already satisfied: multidict<7.0,>=4.5 in /home/coder/.local/lib/python3.9/site-packages (from aiohttp->datasets) (6.0.2)\n",
      "Requirement already satisfied: pytz>=2020.1 in /home/coder/.local/lib/python3.9/site-packages (from pandas->datasets) (2022.1)\n",
      "Requirement already satisfied: python-dateutil>=2.8.1 in /home/coder/.local/lib/python3.9/site-packages (from pandas->datasets) (2.8.2)\n",
      "Requirement already satisfied: six>=1.5 in /home/coder/.local/lib/python3.9/site-packages (from python-dateutil>=2.8.1->pandas->datasets) (1.16.0)\n",
      "Installing collected packages: pip\n",
      "Successfully installed pip-22.3.1\n"
     ]
    }
   ],
   "source": [
    "# system tools\n",
    "import os\n",
    "\n",
    "# pytorch\n",
    "os.system('pip install --upgrade pip datasets torch')\n",
    "import torch\n",
    "import torch.nn as nn\n",
    "\n",
    "# data processing\n",
    "import pandas as pd\n",
    "import numpy as np\n",
    "\n",
    "# huggingface datasets\n",
    "from datasets import load_dataset\n",
    "\n",
    "# scikit learn tools\n",
    "from sklearn.model_selection import train_test_split\n",
    "from datasets import Dataset\n",
    "from sklearn.metrics import classification_report\n",
    "from sklearn.feature_extraction.text import TfidfVectorizer\n",
    "\n",
    "# plotting tools\n",
    "import matplotlib.pyplot as plt"
   ]
  },
  {
   "cell_type": "markdown",
   "metadata": {},
   "source": [
    "## Define Neural Network model class"
   ]
  },
  {
   "cell_type": "markdown",
   "metadata": {},
   "source": [
    "Notice how here I'm using a _ReLU_ activation function. After experimenting a little, I found that _ReLU_ was overfitting much less quickly than using _Sigmoid_ activation functions. The final layer is still _Sigmoid_ as we're trying to make a binary prediction."
   ]
  },
  {
   "cell_type": "code",
   "execution_count": 17,
   "metadata": {
    "execution": {
     "iopub.execute_input": "2022-10-13T11:45:52.446986Z",
     "iopub.status.busy": "2022-10-13T11:45:52.446375Z",
     "iopub.status.idle": "2022-10-13T11:45:52.458121Z",
     "shell.execute_reply": "2022-10-13T11:45:52.457184Z",
     "shell.execute_reply.started": "2022-10-13T11:45:52.446932Z"
    },
    "tags": []
   },
   "outputs": [],
   "source": [
    "# Neural network model\n",
    "class Model(nn.Module):\n",
    "    def __init__(self, n_input_features):\n",
    "        super().__init__()\n",
    "        self.linear1 = nn.Linear(n_input_features, 100)\n",
    "        self.linear2 = nn.Linear(100, 10)\n",
    "        self.linear3 = nn.Linear(10, 1)\n",
    "\n",
    "    def forward(self, x):\n",
    "        leaky_relu = nn.LeakyReLU(0.2)\n",
    "        # Linear -> ReLU\n",
    "        x = self.linear1(x)\n",
    "        x = leaky_relu(x)\n",
    "        # Linear -> ReLU\n",
    "        x = self.linear2(x)\n",
    "        x = leaky_relu(x)\n",
    "        # Linear -> Sigmoid\n",
    "        x = self.linear3(x)\n",
    "        y_pred = torch.sigmoid(x)\n",
    "        return y_pred"
   ]
  },
  {
   "cell_type": "code",
   "execution_count": 18,
   "metadata": {},
   "outputs": [],
   "source": [
    "# # Logistic regression model\n",
    "# class Model(nn.Module):\n",
    "#     \"\"\" class initializing a simple logistic regression classifier\n",
    "#     \"\"\"\n",
    "#     def __init__(self, n_input_features):\n",
    "#          super().__init__()\n",
    "#          self.linear = torch.nn.Linear(n_input_features, 1)\n",
    "\n",
    "#     def forward(self, x):\n",
    "#         x = self.linear(x)\n",
    "#         y_pred = torch.sigmoid(x)\n",
    "#         return y_pred"
   ]
  },
  {
   "cell_type": "markdown",
   "metadata": {},
   "source": [
    "__Load data__"
   ]
  },
  {
   "cell_type": "markdown",
   "metadata": {},
   "source": [
    "For this exercise, I decided to use the \"Rotten Tomatoes\" dataset from Huggingface. Technically, any other ```Huggingface``` dataset should fit in here, as long as it has training-validation-test datasets and binary labels."
   ]
  },
  {
   "cell_type": "code",
   "execution_count": 19,
   "metadata": {
    "execution": {
     "iopub.execute_input": "2022-10-13T11:45:53.916946Z",
     "iopub.status.busy": "2022-10-13T11:45:53.916187Z",
     "iopub.status.idle": "2022-10-13T11:45:58.969976Z",
     "shell.execute_reply": "2022-10-13T11:45:58.968775Z",
     "shell.execute_reply.started": "2022-10-13T11:45:53.916892Z"
    },
    "tags": []
   },
   "outputs": [],
   "source": [
    "# Import the dataframe\n",
    "data = pd.read_csv(\"/work/exam/ASD_classification/data/dataframes/data_eigstig_age3_text_label.csv\")"
   ]
  },
  {
   "cell_type": "markdown",
   "metadata": {},
   "source": [
    "I start by explicitly separating the different splits in the data."
   ]
  },
  {
   "cell_type": "code",
   "execution_count": 20,
   "metadata": {
    "execution": {
     "iopub.execute_input": "2022-10-13T11:45:58.981711Z",
     "iopub.status.busy": "2022-10-13T11:45:58.981358Z",
     "iopub.status.idle": "2022-10-13T11:45:58.987989Z",
     "shell.execute_reply": "2022-10-13T11:45:58.986625Z",
     "shell.execute_reply.started": "2022-10-13T11:45:58.981679Z"
    },
    "tags": []
   },
   "outputs": [],
   "source": [
    "# Split dataset into train, test, val (70, 15, 15)\n",
    "train, test = train_test_split(data, test_size=0.15)\n",
    "train, val = train_test_split(train, test_size=0.15)\n",
    "\n",
    "# Turning the split dataframes into dicts\n",
    "train = Dataset.from_dict(train)\n",
    "val = Dataset.from_dict(val)\n",
    "test = Dataset.from_dict(test)"
   ]
  },
  {
   "cell_type": "markdown",
   "metadata": {},
   "source": [
    "__Vectorize__"
   ]
  },
  {
   "cell_type": "markdown",
   "metadata": {},
   "source": [
    "I then define how to use my vectorizer class. I originally trained by using ```lowercase=True```and using removing highly common English words (what are called \"stopwords\" in text mining literature). However, this was a bad idea - the data is already lowercase, and removing stopwords reduced performance. I suspect that this is because I was actually removing a lot of common words which are shared across training and test data, meaning it was harder for the model to generalize."
   ]
  },
  {
   "cell_type": "code",
   "execution_count": 21,
   "metadata": {
    "execution": {
     "iopub.execute_input": "2022-10-13T11:51:48.202285Z",
     "iopub.status.busy": "2022-10-13T11:51:48.201605Z",
     "iopub.status.idle": "2022-10-13T11:51:48.227966Z",
     "shell.execute_reply": "2022-10-13T11:51:48.227198Z",
     "shell.execute_reply.started": "2022-10-13T11:51:48.202228Z"
    },
    "tags": []
   },
   "outputs": [],
   "source": [
    "# vectorizer\n",
    "vectorizer = TfidfVectorizer(ngram_range=(1,2),\n",
    "                            #lowercase=True, \n",
    "                            #stop_words=\"english\", \n",
    "                            #max_df=0.9, \n",
    "                            #min_df=0.1,\n",
    "                            max_features=500)"
   ]
  },
  {
   "cell_type": "markdown",
   "metadata": {},
   "source": [
    "I first vectorize the training data and conver the labels to something that ```pytorch``` can use. \n",
    "\n",
    "After than, I transform the validation and test data using the vectorizer that was fit to the training data. Be careful here that you don't use ```.fit_transform()``` on the validation and training data again!"
   ]
  },
  {
   "cell_type": "code",
   "execution_count": 22,
   "metadata": {
    "execution": {
     "iopub.execute_input": "2022-10-13T11:51:49.033759Z",
     "iopub.status.busy": "2022-10-13T11:51:49.033563Z",
     "iopub.status.idle": "2022-10-13T11:51:49.428600Z",
     "shell.execute_reply": "2022-10-13T11:51:49.427609Z",
     "shell.execute_reply.started": "2022-10-13T11:51:49.033741Z"
    },
    "tags": []
   },
   "outputs": [],
   "source": [
    "# vectorized training data -> to tensors\n",
    "train_vect = vectorizer.fit_transform(train[\"text\"])\n",
    "train_vect = torch.tensor(train_vect.toarray(), dtype=torch.float)\n",
    "\n",
    "# labels\n",
    "train_label = torch.tensor(list(train[\"label\"]), dtype=torch.float)\n",
    "train_label = train_label.view(train_label.shape[0], 1)"
   ]
  },
  {
   "cell_type": "code",
   "execution_count": 23,
   "metadata": {
    "execution": {
     "iopub.execute_input": "2022-10-13T11:51:49.430007Z",
     "iopub.status.busy": "2022-10-13T11:51:49.429726Z",
     "iopub.status.idle": "2022-10-13T11:51:49.463608Z",
     "shell.execute_reply": "2022-10-13T11:51:49.463193Z",
     "shell.execute_reply.started": "2022-10-13T11:51:49.429982Z"
    },
    "tags": []
   },
   "outputs": [],
   "source": [
    "# vectorized validation data -> to tensors\n",
    "val_vect = vectorizer.transform(val[\"text\"])\n",
    "val_vect = torch.tensor(val_vect.toarray(), dtype=torch.float)\n",
    "\n",
    "# labels\n",
    "val_label = torch.tensor(list(val[\"label\"]), dtype=torch.float)\n",
    "val_label = val_label.view(val_label.shape[0], 1)"
   ]
  },
  {
   "cell_type": "code",
   "execution_count": 24,
   "metadata": {
    "execution": {
     "iopub.execute_input": "2022-10-13T11:51:49.465135Z",
     "iopub.status.busy": "2022-10-13T11:51:49.464870Z",
     "iopub.status.idle": "2022-10-13T11:51:49.503738Z",
     "shell.execute_reply": "2022-10-13T11:51:49.503085Z",
     "shell.execute_reply.started": "2022-10-13T11:51:49.465117Z"
    },
    "tags": []
   },
   "outputs": [],
   "source": [
    "# vectorized test data -> to tensors\n",
    "test_vect = vectorizer.transform(test[\"text\"])\n",
    "test_vect = torch.tensor(test_vect.toarray(), dtype=torch.float)\n",
    "\n",
    "# labels\n",
    "test_label = torch.tensor(list(test[\"label\"]), dtype=torch.float)\n",
    "test_label = test_label.view(test_label.shape[0], 1)"
   ]
  },
  {
   "cell_type": "markdown",
   "metadata": {},
   "source": [
    "__Parameters__"
   ]
  },
  {
   "cell_type": "markdown",
   "metadata": {},
   "source": [
    "I then initialise my model just like we did in class last time. The only difference here is that I'm adding a fairly small learning rate to ```ADAM``` to avoid overfitting - note that ```1e-4``` is scientific notation, so that's 0.0001.\n",
    "\n",
    "This learning rate was decided upon through trial and error. We'll see in class soon how we can do _hyperparameter search_."
   ]
  },
  {
   "cell_type": "code",
   "execution_count": 25,
   "metadata": {},
   "outputs": [
    {
     "name": "stdout",
     "output_type": "stream",
     "text": [
      "torch.Size([1])\n"
     ]
    }
   ],
   "source": [
    "# Weights\n",
    "## Weights for class 0:\n",
    "w0 = 2435/(2 * 1730)\n",
    "## Weights for class 1:\n",
    "w1 = 2435/(2 * 705)\n",
    "#weights = {0 : w0, 1 : w1}\n",
    "weights = torch.Tensor([0.000000000001])\n",
    "print(weights.size())\n",
    "#weights = {0:w0, 1:w1}"
   ]
  },
  {
   "cell_type": "code",
   "execution_count": 26,
   "metadata": {
    "execution": {
     "iopub.execute_input": "2022-10-13T11:52:39.193808Z",
     "iopub.status.busy": "2022-10-13T11:52:39.192969Z",
     "iopub.status.idle": "2022-10-13T11:52:39.203543Z",
     "shell.execute_reply": "2022-10-13T11:52:39.202474Z",
     "shell.execute_reply.started": "2022-10-13T11:52:39.193748Z"
    },
    "tags": []
   },
   "outputs": [],
   "source": [
    "# initialize model\n",
    "n_samples, n_features = train_vect.shape\n",
    "model = Model(n_input_features=n_features)\n",
    "\n",
    "# define loss and optimizer\n",
    "criterion = nn.BCELoss()\n",
    "optimizer = torch.optim.AdamW(model.parameters(),\n",
    "                              lr=1e-3)"
   ]
  },
  {
   "cell_type": "markdown",
   "metadata": {},
   "source": [
    "__Train__"
   ]
  },
  {
   "cell_type": "markdown",
   "metadata": {},
   "source": [
    "I create empty lists into which I'm going to save the training and validation loss after every epoch. This is because we can actually learn a lot about _how well_ a model is learning by inspecting the loss curves. There's a nice introduction to this idea [here](https://machinelearningmastery.com/learning-curves-for-diagnosing-machine-learning-model-performance/).\n",
    "\n",
    "Note that we could do the same for an _accuracy curve_ - i.e. how much is accuracy improving over time. \n",
    "\n",
    "- How might we implement that?\n",
    "- What would we expect to see if a model is learning well?"
   ]
  },
  {
   "cell_type": "code",
   "execution_count": 27,
   "metadata": {
    "execution": {
     "iopub.execute_input": "2022-10-13T11:52:39.962303Z",
     "iopub.status.busy": "2022-10-13T11:52:39.962132Z",
     "iopub.status.idle": "2022-10-13T11:52:39.974454Z",
     "shell.execute_reply": "2022-10-13T11:52:39.973830Z",
     "shell.execute_reply.started": "2022-10-13T11:52:39.962288Z"
    },
    "tags": []
   },
   "outputs": [],
   "source": [
    "# for plotting\n",
    "train_loss_history = []\n",
    "val_loss_history = []"
   ]
  },
  {
   "cell_type": "markdown",
   "metadata": {},
   "source": [
    "We then train for 1000 epochs, and the loop here is very similar to what we've worked on in-class. The only difference is that after we've run the backprop and updated the gradients, we then test how well the model performs on the validation data during this epoch.\n",
    "\n",
    "Notice that we need to do two things here - firstly, we set ```torch.no_grad()``` to make sure that we don't accidentally update any gradients that we don't want to update. We also then have to set the model to evaluation mode using ```model.eval()```. This make sure that we don't do a forward pass over the validation data and end up learning from it!"
   ]
  },
  {
   "cell_type": "code",
   "execution_count": 28,
   "metadata": {
    "execution": {
     "iopub.execute_input": "2022-10-13T11:52:39.975378Z",
     "iopub.status.busy": "2022-10-13T11:52:39.975209Z",
     "iopub.status.idle": "2022-10-13T11:52:47.377280Z",
     "shell.execute_reply": "2022-10-13T11:52:47.376608Z",
     "shell.execute_reply.started": "2022-10-13T11:52:39.975363Z"
    },
    "tags": []
   },
   "outputs": [
    {
     "name": "stdout",
     "output_type": "stream",
     "text": [
      "[INFO:] Training classifier...\n",
      "epoch: 100, loss = 0.5230\n",
      "epoch: 200, loss = 0.4434\n",
      "epoch: 300, loss = 0.3782\n",
      "epoch: 400, loss = 0.3208\n",
      "epoch: 500, loss = 0.2962\n",
      "epoch: 600, loss = 0.2896\n",
      "epoch: 700, loss = 0.2875\n",
      "epoch: 800, loss = 0.2865\n",
      "epoch: 900, loss = 0.2859\n",
      "epoch: 1000, loss = 0.2856\n",
      "[INFO:] Finished traning!\n"
     ]
    }
   ],
   "source": [
    "# train\n",
    "epochs = 1000\n",
    "print(\"[INFO:] Training classifier...\")\n",
    "\n",
    "# loop for epochs\n",
    "for epoch in range(epochs):\n",
    "    \n",
    "    # forward\n",
    "    y_hat = model(train_vect)\n",
    "\n",
    "    # backward\n",
    "    loss = criterion(y_hat, train_label)\n",
    "    train_loss_history.append(loss)\n",
    "\n",
    "    # backpropagation\n",
    "    loss.backward()\n",
    "    \n",
    "    # take step, reset\n",
    "    optimizer.step()\n",
    "    optimizer.zero_grad()\n",
    "    \n",
    "    # Validation Loop \n",
    "    with torch.no_grad(): \n",
    "        # set to eval mode\n",
    "        model.eval() \n",
    "\n",
    "        # make predictions\n",
    "        predicted_outputs = model(val_vect) \n",
    "\n",
    "        # metrics\n",
    "        val_loss = criterion(predicted_outputs, val_label) \n",
    "\n",
    "        # append\n",
    "        val_loss_history.append(val_loss) \n",
    "\n",
    "    # some print to see that it is running\n",
    "    if (epoch + 1) % 100 == 0:\n",
    "        print(f\"epoch: {epoch+1}, loss = {loss.item():.4f}\")\n",
    "\n",
    "print(\"[INFO:] Finished traning!\")"
   ]
  },
  {
   "cell_type": "markdown",
   "metadata": {},
   "source": [
    "__Evaluate__"
   ]
  },
  {
   "cell_type": "markdown",
   "metadata": {},
   "source": [
    "Once the model has trained, we can then inspect performance. Since we only trained on the train and validation splits, we can then check how our accuracy looks when evaluating the test data. This test data has not been at all during training, so it's completely new to the model. If it performs well on this held out data, that implies that the model has learned to generalize well."
   ]
  },
  {
   "cell_type": "code",
   "execution_count": 29,
   "metadata": {
    "execution": {
     "iopub.execute_input": "2022-10-13T11:52:48.867733Z",
     "iopub.status.busy": "2022-10-13T11:52:48.867555Z",
     "iopub.status.idle": "2022-10-13T11:52:48.881390Z",
     "shell.execute_reply": "2022-10-13T11:52:48.880659Z",
     "shell.execute_reply.started": "2022-10-13T11:52:48.867716Z"
    },
    "tags": []
   },
   "outputs": [
    {
     "name": "stdout",
     "output_type": "stream",
     "text": [
      "              precision    recall  f1-score   support\n",
      "\n",
      "          TD       0.62      0.65      0.63       351\n",
      "         ASD       0.66      0.63      0.64       380\n",
      "\n",
      "    accuracy                           0.64       731\n",
      "   macro avg       0.64      0.64      0.64       731\n",
      "weighted avg       0.64      0.64      0.64       731\n",
      "\n"
     ]
    }
   ],
   "source": [
    "# Plot\n",
    "predicted = model(test_vect).detach().numpy()\n",
    "print(classification_report(test_label, \n",
    "                            np.where(predicted > 0.5, 1, 0),\n",
    "                            target_names = [\"TD\", \"ASD\"]))"
   ]
  },
  {
   "cell_type": "markdown",
   "metadata": {},
   "source": [
    "We can also produce a simple plot showing how training and validation loss decrease over time. The blue line is the training loss; orange is the validation loss."
   ]
  },
  {
   "cell_type": "code",
   "execution_count": 30,
   "metadata": {
    "execution": {
     "iopub.execute_input": "2022-10-13T11:52:48.882400Z",
     "iopub.status.busy": "2022-10-13T11:52:48.882196Z",
     "iopub.status.idle": "2022-10-13T11:52:49.009984Z",
     "shell.execute_reply": "2022-10-13T11:52:49.009278Z",
     "shell.execute_reply.started": "2022-10-13T11:52:48.882380Z"
    },
    "tags": []
   },
   "outputs": [
    {
     "data": {
      "text/plain": [
       "[<matplotlib.lines.Line2D at 0x7fee7d665460>]"
      ]
     },
     "execution_count": 30,
     "metadata": {},
     "output_type": "execute_result"
    },
    {
     "data": {
      "image/png": "[encoded data removed]",
      "text/plain": [
       "<Figure size 432x288 with 1 Axes>"
      ]
     },
     "metadata": {
      "needs_background": "light"
     },
     "output_type": "display_data"
    }
   ],
   "source": [
    "train_loss = [val.item() for val in train_loss_history]\n",
    "val_loss = [val.item() for val in val_loss_history]\n",
    "\n",
    "fig, ax = plt.subplots()\n",
    "ax.plot(train_loss)\n",
    "ax.plot(val_loss)"
   ]
  },
  {
   "cell_type": "markdown",
   "metadata": {},
   "source": [
    "- Given the loss curves and the classification report, how well is this model performing?\n",
    "- If we wanted to make improvements, what might we want to change?\n",
    "- How do we make principled decisions about which hyperparameters to change?\n",
    "  - Hint: One way to do it to just use [brute force](https://towardsdatascience.com/grid-search-for-model-tuning-3319b259367e)!"
   ]
  }
 ],
 "metadata": {
  "kernelspec": {
   "display_name": "Python 3.9.13 64-bit",
   "language": "python",
   "name": "python3"
  },
  "language_info": {
   "codemirror_mode": {
    "name": "ipython",
    "version": 3
   },
   "file_extension": ".py",
   "mimetype": "text/x-python",
   "name": "python",
   "nbconvert_exporter": "python",
   "pygments_lexer": "ipython3",
   "version": "3.9.2"
  },
  "vscode": {
   "interpreter": {
    "hash": "397704579725e15f5c7cb49fe5f0341eb7531c82d19f2c29d197e8b64ab5776b"
   }
  }
 },
 "nbformat": 4,
 "nbformat_minor": 4
}
