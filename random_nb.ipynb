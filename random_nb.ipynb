{
 "cells": [
  {
   "cell_type": "code",
   "execution_count": 1,
   "metadata": {},
   "outputs": [],
   "source": [
    "import os\n",
    "import pandas as pd"
   ]
  },
  {
   "cell_type": "code",
   "execution_count": 8,
   "metadata": {},
   "outputs": [],
   "source": [
    "#text = pd.read_csv(\"/work/exam/ASD_classification/CHI_data.csv\")\n",
    "text = pd.read_fwf(\"/work/exam/ASD_classification/data/data/wiki-flower-text1.txt\")"
   ]
  },
  {
   "cell_type": "code",
   "execution_count": 9,
   "metadata": {},
   "outputs": [
    {
     "data": {
      "text/plain": [
       "0      The film largely consisted of a stick figure m...\n",
       "1      Apollo changed her into an incense plant , eit...\n",
       "2      Out of Hyacinthus ' blood , Apollo created a f...\n",
       "3      Cut flowers , nursery plants , tropical fish a...\n",
       "4      The orchid takes advantage of this mating arra...\n",
       "                             ...                        \n",
       "493    Also the frost can literally look like a flowe...\n",
       "494    Due to their fleeting nature , they are diffic...\n",
       "495    The entire visible plant may completely turn b...\n",
       "496    In the 8th century , Charlemagne freed the peo...\n",
       "497    There are many species of ferns , flowers , fu...\n",
       "Name: The state tree is the Longleaf Pine , the state flower is the Camellia ., Length: 498, dtype: object"
      ]
     },
     "execution_count": 9,
     "metadata": {},
     "output_type": "execute_result"
    }
   ],
   "source": [
    "raw = text.iloc[:, 0]\n",
    "raw"
   ]
  },
  {
   "cell_type": "code",
   "execution_count": 27,
   "metadata": {},
   "outputs": [
    {
     "data": {
      "text/html": [
       "<div>\n",
       "<style scoped>\n",
       "    .dataframe tbody tr th:only-of-type {\n",
       "        vertical-align: middle;\n",
       "    }\n",
       "\n",
       "    .dataframe tbody tr th {\n",
       "        vertical-align: top;\n",
       "    }\n",
       "\n",
       "    .dataframe thead th {\n",
       "        text-align: right;\n",
       "    }\n",
       "</style>\n",
       "<table border=\"1\" class=\"dataframe\">\n",
       "  <thead>\n",
       "    <tr style=\"text-align: right;\">\n",
       "      <th></th>\n",
       "      <th>Unnamed: 0</th>\n",
       "      <th>participant</th>\n",
       "      <th>age</th>\n",
       "      <th>id</th>\n",
       "      <th>group</th>\n",
       "      <th>tokens2</th>\n",
       "    </tr>\n",
       "  </thead>\n",
       "  <tbody>\n",
       "    <tr>\n",
       "      <th>0</th>\n",
       "      <td>50</td>\n",
       "      <td>CHI</td>\n",
       "      <td>45.633333</td>\n",
       "      <td>11312/a-00032743-1</td>\n",
       "      <td>TD</td>\n",
       "      <td>.</td>\n",
       "    </tr>\n",
       "    <tr>\n",
       "      <th>1</th>\n",
       "      <td>61</td>\n",
       "      <td>CHI</td>\n",
       "      <td>45.633333</td>\n",
       "      <td>11312/a-00032743-1</td>\n",
       "      <td>TD</td>\n",
       "      <td>.</td>\n",
       "    </tr>\n",
       "    <tr>\n",
       "      <th>2</th>\n",
       "      <td>72</td>\n",
       "      <td>CHI</td>\n",
       "      <td>45.633333</td>\n",
       "      <td>11312/a-00032743-1</td>\n",
       "      <td>TD</td>\n",
       "      <td>.</td>\n",
       "    </tr>\n",
       "    <tr>\n",
       "      <th>3</th>\n",
       "      <td>86</td>\n",
       "      <td>CHI</td>\n",
       "      <td>45.633333</td>\n",
       "      <td>11312/a-00032743-1</td>\n",
       "      <td>TD</td>\n",
       "      <td>.</td>\n",
       "    </tr>\n",
       "    <tr>\n",
       "      <th>4</th>\n",
       "      <td>88</td>\n",
       "      <td>CHI</td>\n",
       "      <td>45.633333</td>\n",
       "      <td>11312/a-00032743-1</td>\n",
       "      <td>TD</td>\n",
       "      <td>.</td>\n",
       "    </tr>\n",
       "    <tr>\n",
       "      <th>...</th>\n",
       "      <td>...</td>\n",
       "      <td>...</td>\n",
       "      <td>...</td>\n",
       "      <td>...</td>\n",
       "      <td>...</td>\n",
       "      <td>...</td>\n",
       "    </tr>\n",
       "    <tr>\n",
       "      <th>8348</th>\n",
       "      <td>304</td>\n",
       "      <td>CHI</td>\n",
       "      <td>28.800000</td>\n",
       "      <td>11312/a-00005262-1</td>\n",
       "      <td>TD</td>\n",
       "      <td>no Mama no not just ponytail .</td>\n",
       "    </tr>\n",
       "    <tr>\n",
       "      <th>8349</th>\n",
       "      <td>306</td>\n",
       "      <td>CHI</td>\n",
       "      <td>28.800000</td>\n",
       "      <td>11312/a-00005262-1</td>\n",
       "      <td>TD</td>\n",
       "      <td>I just your hair .</td>\n",
       "    </tr>\n",
       "    <tr>\n",
       "      <th>8350</th>\n",
       "      <td>310</td>\n",
       "      <td>CHI</td>\n",
       "      <td>28.800000</td>\n",
       "      <td>11312/a-00005262-1</td>\n",
       "      <td>TD</td>\n",
       "      <td>haircut .</td>\n",
       "    </tr>\n",
       "    <tr>\n",
       "      <th>8351</th>\n",
       "      <td>312</td>\n",
       "      <td>CHI</td>\n",
       "      <td>28.800000</td>\n",
       "      <td>11312/a-00005262-1</td>\n",
       "      <td>TD</td>\n",
       "      <td>.</td>\n",
       "    </tr>\n",
       "    <tr>\n",
       "      <th>8352</th>\n",
       "      <td>313</td>\n",
       "      <td>CHI</td>\n",
       "      <td>28.800000</td>\n",
       "      <td>11312/a-00005262-1</td>\n",
       "      <td>TD</td>\n",
       "      <td>now I make some my something else .</td>\n",
       "    </tr>\n",
       "  </tbody>\n",
       "</table>\n",
       "<p>8353 rows × 6 columns</p>\n",
       "</div>"
      ],
      "text/plain": [
       "      Unnamed: 0 participant        age                  id group  \\\n",
       "0             50         CHI  45.633333  11312/a-00032743-1    TD   \n",
       "1             61         CHI  45.633333  11312/a-00032743-1    TD   \n",
       "2             72         CHI  45.633333  11312/a-00032743-1    TD   \n",
       "3             86         CHI  45.633333  11312/a-00032743-1    TD   \n",
       "4             88         CHI  45.633333  11312/a-00032743-1    TD   \n",
       "...          ...         ...        ...                 ...   ...   \n",
       "8348         304         CHI  28.800000  11312/a-00005262-1    TD   \n",
       "8349         306         CHI  28.800000  11312/a-00005262-1    TD   \n",
       "8350         310         CHI  28.800000  11312/a-00005262-1    TD   \n",
       "8351         312         CHI  28.800000  11312/a-00005262-1    TD   \n",
       "8352         313         CHI  28.800000  11312/a-00005262-1    TD   \n",
       "\n",
       "                                   tokens2  \n",
       "0                                       .   \n",
       "1                                       .   \n",
       "2                                       .   \n",
       "3                                       .   \n",
       "4                                       .   \n",
       "...                                    ...  \n",
       "8348       no Mama no not just ponytail .   \n",
       "8349                   I just your hair .   \n",
       "8350                            haircut .   \n",
       "8351                                    .   \n",
       "8352  now I make some my something else .   \n",
       "\n",
       "[8353 rows x 6 columns]"
      ]
     },
     "execution_count": 27,
     "metadata": {},
     "output_type": "execute_result"
    }
   ],
   "source": [
    "df = pd.read_csv(\"/work/exam/ASD_classification/CHI_data.csv\")\n",
    "df"
   ]
  },
  {
   "cell_type": "code",
   "execution_count": 19,
   "metadata": {},
   "outputs": [
    {
     "data": {
      "text/plain": [
       "Dataset({\n",
       "    features: ['Unnamed: 0', 'participant', 'age', 'id', 'group', 'tokens2'],\n",
       "    num_rows: 8353\n",
       "})"
      ]
     },
     "execution_count": 19,
     "metadata": {},
     "output_type": "execute_result"
    }
   ],
   "source": [
    "from datasets import Dataset\n",
    "dataset = Dataset.from_dict(df)\n",
    "dataset"
   ]
  },
  {
   "cell_type": "code",
   "execution_count": 39,
   "metadata": {},
   "outputs": [],
   "source": [
    "from sklearn.model_selection import train_test_split\n",
    "from datasets import Dataset\n",
    "\n",
    "# Split dataset into train, test, val (70, 15, 15)\n",
    "train, test = train_test_split(df, test_size=0.15)\n",
    "train, val = train_test_split(train, test_size=0.15)\n",
    "\n",
    "train = Dataset.from_dict(train)\n",
    "val = Dataset.from_dict(val)\n",
    "test = Dataset.from_dict(test)\n",
    "\n",
    "dd = datasets.DatasetDict({\n",
    "    \"train\":train, \n",
    "    \"val\":val, \n",
    "    \"test\":test\n",
    "    })\n"
   ]
  },
  {
   "cell_type": "code",
   "execution_count": 43,
   "metadata": {},
   "outputs": [
    {
     "name": "stdout",
     "output_type": "stream",
     "text": [
      "5\n"
     ]
    }
   ],
   "source": [
    "class myclass:\n",
    "    x = 5\n",
    "\n",
    "p = myclass()\n",
    "\n",
    "print(p.x)"
   ]
  },
  {
   "cell_type": "code",
   "execution_count": 38,
   "metadata": {},
   "outputs": [
    {
     "name": "stdout",
     "output_type": "stream",
     "text": [
      "<class 'datasets.dataset_dict.DatasetDict'>\n",
      "DatasetDict({\n",
      "    train: Dataset({\n",
      "        features: ['Unnamed: 0', 'participant', 'age', 'id', 'group', 'tokens2'],\n",
      "        num_rows: 6035\n",
      "    })\n",
      "    val: Dataset({\n",
      "        features: ['Unnamed: 0', 'participant', 'age', 'id', 'group', 'tokens2'],\n",
      "        num_rows: 1065\n",
      "    })\n",
      "    test: Dataset({\n",
      "        features: ['Unnamed: 0', 'participant', 'age', 'id', 'group', 'tokens2'],\n",
      "        num_rows: 1253\n",
      "    })\n",
      "})\n"
     ]
    }
   ],
   "source": [
    "print(type(dd))\n",
    "print(dd)"
   ]
  }
 ],
 "metadata": {
  "interpreter": {
   "hash": "31f2aee4e71d21fbe5cf8b01ff0e069b9275f58929596ceb00d14d90e3e16cd6"
  },
  "kernelspec": {
   "display_name": "Python 3.9.2 64-bit",
   "language": "python",
   "name": "python3"
  },
  "language_info": {
   "codemirror_mode": {
    "name": "ipython",
    "version": 3
   },
   "file_extension": ".py",
   "mimetype": "text/x-python",
   "name": "python",
   "nbconvert_exporter": "python",
   "pygments_lexer": "ipython3",
   "version": "3.9.2"
  },
  "orig_nbformat": 4
 },
 "nbformat": 4,
 "nbformat_minor": 2
}
