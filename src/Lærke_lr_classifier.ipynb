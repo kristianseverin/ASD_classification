{
 "cells": [
  {
   "cell_type": "markdown",
   "metadata": {},
   "source": [
    "# Neural network to classify ASD in children\n",
    "## 1. Importing packages"
   ]
  },
  {
   "cell_type": "code",
   "execution_count": 37,
   "metadata": {},
   "outputs": [
    {
     "name": "stdout",
     "output_type": "stream",
     "text": [
      "Defaulting to user installation because normal site-packages is not writeable\n",
      "Requirement already satisfied: pip in /usr/lib/python3/dist-packages (20.3.4)\n",
      "Collecting pip\n",
      "  Using cached pip-22.3.1-py3-none-any.whl (2.1 MB)\n",
      "Requirement already satisfied: datasets in /home/coder/.local/lib/python3.9/site-packages (2.7.1)\n",
      "Requirement already satisfied: torch in /home/coder/.local/lib/python3.9/site-packages (1.13.0)\n",
      "Requirement already satisfied: pyyaml>=5.1 in /home/coder/.local/lib/python3.9/site-packages (from datasets) (6.0)\n",
      "Requirement already satisfied: xxhash in /home/coder/.local/lib/python3.9/site-packages (from datasets) (3.1.0)\n",
      "Requirement already satisfied: fsspec[http]>=2021.11.1 in /home/coder/.local/lib/python3.9/site-packages (from datasets) (2022.5.0)\n",
      "Requirement already satisfied: requests>=2.19.0 in /home/coder/.local/lib/python3.9/site-packages (from datasets) (2.28.1)\n",
      "Requirement already satisfied: responses<0.19 in /home/coder/.local/lib/python3.9/site-packages (from datasets) (0.18.0)\n",
      "Requirement already satisfied: multiprocess in /home/coder/.local/lib/python3.9/site-packages (from datasets) (0.70.14)\n",
      "Requirement already satisfied: dill<0.3.7 in /home/coder/.local/lib/python3.9/site-packages (from datasets) (0.3.6)\n",
      "Requirement already satisfied: aiohttp in /home/coder/.local/lib/python3.9/site-packages (from datasets) (3.8.3)\n",
      "Requirement already satisfied: huggingface-hub<1.0.0,>=0.2.0 in /home/coder/.local/lib/python3.9/site-packages (from datasets) (0.11.1)\n",
      "Requirement already satisfied: pandas in /home/coder/.local/lib/python3.9/site-packages (from datasets) (1.4.3)\n",
      "Requirement already satisfied: numpy>=1.17 in /home/coder/.local/lib/python3.9/site-packages (from datasets) (1.23.0)\n",
      "Requirement already satisfied: packaging in /home/coder/.local/lib/python3.9/site-packages (from datasets) (21.3)\n",
      "Requirement already satisfied: pyarrow>=6.0.0 in /home/coder/.local/lib/python3.9/site-packages (from datasets) (8.0.0)\n",
      "Requirement already satisfied: tqdm>=4.62.1 in /home/coder/.local/lib/python3.9/site-packages (from datasets) (4.64.0)\n",
      "Requirement already satisfied: typing-extensions in /home/coder/.local/lib/python3.9/site-packages (from torch) (4.3.0)\n",
      "Requirement already satisfied: nvidia-cuda-nvrtc-cu11==11.7.99 in /home/coder/.local/lib/python3.9/site-packages (from torch) (11.7.99)\n",
      "Requirement already satisfied: nvidia-cudnn-cu11==8.5.0.96 in /home/coder/.local/lib/python3.9/site-packages (from torch) (8.5.0.96)\n",
      "Requirement already satisfied: nvidia-cuda-runtime-cu11==11.7.99 in /home/coder/.local/lib/python3.9/site-packages (from torch) (11.7.99)\n",
      "Requirement already satisfied: nvidia-cublas-cu11==11.10.3.66 in /home/coder/.local/lib/python3.9/site-packages (from torch) (11.10.3.66)\n",
      "Requirement already satisfied: setuptools in /usr/lib/python3/dist-packages (from nvidia-cublas-cu11==11.10.3.66->torch) (52.0.0)\n",
      "Requirement already satisfied: wheel in /usr/lib/python3/dist-packages (from nvidia-cublas-cu11==11.10.3.66->torch) (0.34.2)\n",
      "Requirement already satisfied: filelock in /home/coder/.local/lib/python3.9/site-packages (from huggingface-hub<1.0.0,>=0.2.0->datasets) (3.8.2)\n",
      "Requirement already satisfied: pyparsing!=3.0.5,>=2.0.2 in /home/coder/.local/lib/python3.9/site-packages (from packaging->datasets) (3.0.9)\n",
      "Requirement already satisfied: charset-normalizer<3,>=2 in /home/coder/.local/lib/python3.9/site-packages (from requests>=2.19.0->datasets) (2.1.0)\n",
      "Requirement already satisfied: idna<4,>=2.5 in /home/coder/.local/lib/python3.9/site-packages (from requests>=2.19.0->datasets) (3.3)\n",
      "Requirement already satisfied: urllib3<1.27,>=1.21.1 in /home/coder/.local/lib/python3.9/site-packages (from requests>=2.19.0->datasets) (1.26.9)\n",
      "Requirement already satisfied: certifi>=2017.4.17 in /home/coder/.local/lib/python3.9/site-packages (from requests>=2.19.0->datasets) (2022.6.15)\n",
      "Requirement already satisfied: async-timeout<5.0,>=4.0.0a3 in /home/coder/.local/lib/python3.9/site-packages (from aiohttp->datasets) (4.0.2)\n",
      "Requirement already satisfied: yarl<2.0,>=1.0 in /home/coder/.local/lib/python3.9/site-packages (from aiohttp->datasets) (1.8.2)\n",
      "Requirement already satisfied: frozenlist>=1.1.1 in /home/coder/.local/lib/python3.9/site-packages (from aiohttp->datasets) (1.3.3)\n",
      "Requirement already satisfied: aiosignal>=1.1.2 in /home/coder/.local/lib/python3.9/site-packages (from aiohttp->datasets) (1.3.1)\n",
      "Requirement already satisfied: multidict<7.0,>=4.5 in /home/coder/.local/lib/python3.9/site-packages (from aiohttp->datasets) (6.0.2)\n",
      "Requirement already satisfied: attrs>=17.3.0 in /home/coder/.local/lib/python3.9/site-packages (from aiohttp->datasets) (21.4.0)\n",
      "Requirement already satisfied: python-dateutil>=2.8.1 in /home/coder/.local/lib/python3.9/site-packages (from pandas->datasets) (2.8.2)\n",
      "Requirement already satisfied: pytz>=2020.1 in /home/coder/.local/lib/python3.9/site-packages (from pandas->datasets) (2022.1)\n",
      "Requirement already satisfied: six>=1.5 in /home/coder/.local/lib/python3.9/site-packages (from python-dateutil>=2.8.1->pandas->datasets) (1.16.0)\n",
      "Installing collected packages: pip\n",
      "Successfully installed pip-22.3.1\n"
     ]
    }
   ],
   "source": [
    "# system tools\n",
    "import os\n",
    "\n",
    "# pytorch\n",
    "os.system('pip install --upgrade pip datasets torch')\n",
    "import torch\n",
    "import torch.nn as nn\n",
    "\n",
    "# data processing\n",
    "import pandas as pd\n",
    "import numpy as np\n",
    "\n",
    "from sklearn.model_selection import train_test_split\n",
    "from datasets import Dataset\n",
    "\n",
    "# huggingface datasets\n",
    "from datasets import load_dataset\n",
    "\n",
    "# scikit learn tools\n",
    "from sklearn.metrics import classification_report\n",
    "from sklearn.feature_extraction.text import TfidfVectorizer\n",
    "#from sklearn.feature_extraction.text import CountVectorizer #xxx remove one of these when you have tested to see which one is better.\n",
    "\n",
    "# plotting tools\n",
    "import matplotlib.pyplot as plt"
   ]
  },
  {
   "cell_type": "markdown",
   "metadata": {},
   "source": [
    "## 2. Defining our neural network in a model class"
   ]
  },
  {
   "cell_type": "code",
   "execution_count": 38,
   "metadata": {},
   "outputs": [],
   "source": [
    "\n",
    "class LogReg(nn.Module):\n",
    "    \"\"\" class initializing a simple logistic regression classifier\n",
    "    \"\"\"\n",
    "    def __init__(self, n_input_features):\n",
    "         super().__init__()\n",
    "         self.linear = torch.nn.Linear(n_input_features, 1)\n",
    "\n",
    "    def forward(self, x):\n",
    "        x = self.linear(x)\n",
    "        y_pred = torch.sigmoid(x)\n",
    "        return y_pred"
   ]
  },
  {
   "cell_type": "markdown",
   "metadata": {},
   "source": [
    "## 3. Loading and preprocessing the data"
   ]
  },
  {
   "cell_type": "code",
   "execution_count": 39,
   "metadata": {},
   "outputs": [],
   "source": [
    "def split_data(data_path):\n",
    "    \"\"\" A function that loads the \"raw\" dataframe and splits it into three subsets:\n",
    "    training, validation, and test data.\n",
    "    NB: The data is not really raw - the TalkBank data has been preprocessed - see xxx.\n",
    "    \"\"\"\n",
    "    # Import the dataframe\n",
    "    data = pd.read_csv(data_path)\n",
    "\n",
    "    # Split dataset into train, test, val (70, 15, 15)\n",
    "    train, test = train_test_split(data, test_size=0.15)\n",
    "    train, val = train_test_split(train, test_size=0.15)\n",
    "\n",
    "    # Turning the split dataframes into dicts\n",
    "    train = Dataset.from_dict(train)\n",
    "    val = Dataset.from_dict(val)\n",
    "    test = Dataset.from_dict(test)\n",
    "    \n",
    "    return train, val, test"
   ]
  },
  {
   "cell_type": "markdown",
   "metadata": {},
   "source": [
    "## 4. Vectorize (TF-IDF model)"
   ]
  },
  {
   "cell_type": "code",
   "execution_count": 40,
   "metadata": {},
   "outputs": [],
   "source": [
    "def TF_IDF():\n",
    "    \"\"\" This function creates a TF-IDF model of the training, \n",
    "    validation, and test sets using sklearn's TfidfVectorizer.\n",
    "    \"\"\"\n",
    "\n",
    "    train, val, test = split_data(\"/work/exam/ASD_classification/data/dataframes/data_eigstig_age3_text_label.csv\")\n",
    "    \n",
    "    # Load the vectorizer from sklearn\n",
    "    vectorizer = TfidfVectorizer(ngram_range = (1,2), # xxx What does this mean?\n",
    "                                #lowercase = True,\n",
    "                                max_df = 0.9, # xxx What do these two mean?\n",
    "                                min_df = 0.1,\n",
    "                                max_features = 500) # xxx Keeping only the top 500 features in the dataset. Might improve performance\n",
    "    #vectorizer = CountVectorizer(max_features=500) # If end up you using this vectorizer, then you need to rename the function and rewrite the documentation.\n",
    "\n",
    "    # Vectorizing the datasets\n",
    "    X_train = vectorizer.fit_transform(train[\"text\"]) # train_vect\n",
    "    X_val = vectorizer.transform(val[\"text\"]) # val_vect\n",
    "    X_test = vectorizer.transform(test[\"text\"]) # test_vect\n",
    "    \n",
    "    # Turning the vectorized data into tensors\n",
    "    ## Training data:\n",
    "    X_train = torch.tensor(X_train.toarray(), dtype = torch.float)\n",
    "    y_train = torch.tensor(list(train[\"label\"]), dtype = torch.float)\n",
    "    y_train = y_train.view(y_train.shape[0], 1)\n",
    "\n",
    "    ## Validation data:\n",
    "    X_val = torch.tensor(X_val.toarray(), dtype = torch.float)\n",
    "    y_val = torch.tensor(list(val[\"label\"]), dtype = torch.float)\n",
    "    y_val = y_val.view(y_val.shape[0], 1)\n",
    "\n",
    "    ## Test data:\n",
    "    X_test = torch.tensor(X_test.toarray(), dtype = torch.float)\n",
    "    y_test = torch.tensor(list(test[\"label\"]), dtype = torch.float)\n",
    "    y_test = y_test.view(y_test.shape[0], 1)\n",
    "\n",
    "    return X_train, y_train, X_val, y_val, X_test, y_test"
   ]
  },
  {
   "cell_type": "markdown",
   "metadata": {},
   "source": [
    "## 5. Set parameters"
   ]
  },
  {
   "cell_type": "code",
   "execution_count": 49,
   "metadata": {},
   "outputs": [
    {
     "name": "stdout",
     "output_type": "stream",
     "text": [
      "TD weight = 0.703757225433526 , ASD weight = 1.7269503546099292\n"
     ]
    }
   ],
   "source": [
    "######## Weights ########\n",
    "# n_samples = 2435\n",
    "# n_classes = 2 (0 and 1)\n",
    "# n_sample0 (TD) = 1730\n",
    "# n_samples1 (ASD) = 705\n",
    "\n",
    "# Weights for class 0:\n",
    "w0 = 2435/(2 * 1730)\n",
    "\n",
    "#Weights for class 1:\n",
    "w1 = 2435/(2 * 705)\n",
    "\n",
    "print(\"TD weight =\", w0, \", ASD weight =\", w1)\n"
   ]
  },
  {
   "cell_type": "code",
   "execution_count": 41,
   "metadata": {},
   "outputs": [],
   "source": [
    "# xxx It is in this function that it needs to happen, if you want to be able to run both the lr and the nn from the same script (see our own assignment 3)\n",
    "\n",
    "def initializeModel(X_train):\n",
    "    # Initialize model\n",
    "    n_samples, n_features = X_train.shape\n",
    "    model = LogReg(n_input_features = n_features)\n",
    "\n",
    "    # Define loss and optimizer\n",
    "    criterion = nn.BCELoss() # xxx weights?\n",
    "    optimizer = torch.optim.AdamW(model.parameters(),\n",
    "                                #lr = 1e-4) #xxx\n",
    "                                lr = 1e-3)\n",
    "    \n",
    "    return n_features, criterion, optimizer, model"
   ]
  },
  {
   "cell_type": "markdown",
   "metadata": {},
   "source": [
    "## 6. Training the model"
   ]
  },
  {
   "cell_type": "code",
   "execution_count": 42,
   "metadata": {},
   "outputs": [],
   "source": [
    "def saveModel(model): \n",
    "    \"\"\" Function for saving the trained model.\n",
    "    Args:\n",
    "        model (Module): pytorch model to be saved\n",
    "    \"\"\"\n",
    "    path = os.path.join(\"/work\", \"exam\", \"ASD_classification\", \"out\", \"NetModel_lr.pth\")\n",
    "    torch.save(model.state_dict(), path)\n"
   ]
  },
  {
   "cell_type": "code",
   "execution_count": 43,
   "metadata": {},
   "outputs": [],
   "source": [
    "def train(epochs, plot = True):\n",
    "\n",
    "    # Initialize the nn\n",
    "    n_features, criterion, optimizer, model = initializeModel(X_train)\n",
    "    \n",
    "    print(\"[INFO:] Training classifier...\")\n",
    "\n",
    "    # These are used for plotting the loss\n",
    "    train_loss_history = []\n",
    "    val_loss_history = []\n",
    "    # And these are used for saving the model\n",
    "    running_accuracy = 0.0 \n",
    "    running_val_loss = 0.0 \n",
    "    total = 0 \n",
    "    best_accuracy = 0.0\n",
    "\n",
    "    # Looping over the epochs\n",
    "    for epoch in range(epochs):\n",
    "\n",
    "        # Forward\n",
    "        y_train_hat = model(X_train)\n",
    "\n",
    "        # Backward\n",
    "        train_loss = criterion(y_train_hat, y_train)\n",
    "        train_loss_history.append(train_loss)\n",
    "\n",
    "        # Backpropagation\n",
    "        train_loss.backward()\n",
    "\n",
    "        # Take a step and reset\n",
    "        optimizer.step()\n",
    "        optimizer.zero_grad()\n",
    "\n",
    "        # Printing to make sure that it is running\n",
    "        if (epoch + 1) % 100 == 0:\n",
    "            print(f\"epoch: {epoch+1}, train_loss = {train_loss.item():.4f}\")\n",
    "        \n",
    "        # Validation loop\n",
    "        with torch.no_grad():\n",
    "\n",
    "            # Set to evaluation mode to ensure that the model does not forward pass over and learn from the validation data\n",
    "            model.eval()\n",
    "\n",
    "            # Make predictions\n",
    "            y_val_hat = model(X_val) # aka predicted_outputs\n",
    "\n",
    "            # Computing the metrics\n",
    "            val_loss = criterion(y_val_hat, y_val)\n",
    "            val_loss_history.append(val_loss)\n",
    "\n",
    "            \n",
    "            ## This part is for saving the model, so we can use it for testing\n",
    "            # the label with the highest value will be our prediction \n",
    "            _, predicted = torch.max(y_val_hat, 1) \n",
    "            running_val_loss += val_loss.item()  \n",
    "            total += y_val.size(0) \n",
    "            running_accuracy += (predicted == y_val).sum().item()\n",
    "                    \n",
    "        # calculate accuracy as the number of correct predictions in the validation batch divided by the total number of predictions done.  \n",
    "        accuracy = (100 * running_accuracy / total)     \n",
    "    \n",
    "        # save the model if the accuracy is the best \n",
    "        if accuracy > best_accuracy: \n",
    "            saveModel(model) \n",
    "            best_accuracy = accuracy \n",
    "    \n",
    "    if plot:\n",
    "        # plotting training and validation loss\n",
    "        loss_train = [val.item() for val in train_loss_history]\n",
    "        loss_val = [val.item() for val in val_loss_history]\n",
    "        fig, ax = plt.subplots()\n",
    "        ax.plot(loss_train, label = 'train')\n",
    "        ax.set_title('Loss history')\n",
    "        ax.set_xlabel('Epoch')\n",
    "        ax.set_ylabel('Loss')\n",
    "        ax.plot(loss_val, label = 'val')\n",
    "        ax.legend()\n",
    "        plt.savefig(os.path.join(\"/work\", \"exam\", \"ASD_classification\", \"out\", \"loss_curve_lr.png\"))\n",
    "    \n",
    "    print(\"[INFO:] Finished traning!\")\n",
    "\n",
    "    return model\n"
   ]
  },
  {
   "cell_type": "markdown",
   "metadata": {},
   "source": [
    "## 7. Testing/evaluating the model"
   ]
  },
  {
   "cell_type": "code",
   "execution_count": 44,
   "metadata": {},
   "outputs": [],
   "source": [
    "def test(n_features, model):\n",
    "    \"\"\" Function to evaluate model on test set\n",
    "    Args:\n",
    "        n_features (int): number of features\n",
    "    \"\"\"\n",
    "    # testing on the best model\n",
    "    path = os.path.join(\"/work\", \"exam\", \"ASD_classification\", \"out\", \"NetModel_lr.pth\")\n",
    "    model.load_state_dict(torch.load(path)) \n",
    "    predicted = model(X_test).detach().numpy()\n",
    "\n",
    "    # printing and saving classification report\n",
    "    out = classification_report(y_test, \n",
    "                        np.where(predicted > 0.5, 1, 0),\n",
    "                        target_names = [\"TD\", \"ASD\"])\n",
    "    \n",
    "    print(out) \n",
    "\n",
    "    with open(os.path.join(\"/work\", \"exam\", \"ASD_classification\", \"out\", \"classification_report_lr.txt\"), 'w') as f:\n",
    "        f.write(out)"
   ]
  },
  {
   "cell_type": "markdown",
   "metadata": {},
   "source": [
    "## 8. Main"
   ]
  },
  {
   "cell_type": "code",
   "execution_count": 45,
   "metadata": {},
   "outputs": [
    {
     "name": "stdout",
     "output_type": "stream",
     "text": [
      "[INFO:] Training classifier...\n",
      "epoch: 100, train_loss = 0.7109\n",
      "epoch: 200, train_loss = 0.6913\n",
      "epoch: 300, train_loss = 0.6752\n",
      "epoch: 400, train_loss = 0.6620\n",
      "epoch: 500, train_loss = 0.6512\n",
      "epoch: 600, train_loss = 0.6423\n",
      "epoch: 700, train_loss = 0.6350\n",
      "epoch: 800, train_loss = 0.6290\n",
      "[INFO:] Finished traning!\n",
      "              precision    recall  f1-score   support\n",
      "\n",
      "          TD       0.77      0.15      0.25       266\n",
      "         ASD       0.28      0.88      0.43       100\n",
      "\n",
      "    accuracy                           0.35       366\n",
      "   macro avg       0.52      0.52      0.34       366\n",
      "weighted avg       0.64      0.35      0.30       366\n",
      "\n"
     ]
    },
    {
     "data": {
      "image/png": "[encoded data removed]",
      "text/plain": [
       "<Figure size 432x288 with 1 Axes>"
      ]
     },
     "metadata": {
      "needs_background": "light"
     },
     "output_type": "display_data"
    }
   ],
   "source": [
    "if __name__ == \"__main__\": \n",
    "\n",
    "    # Splitting into separate datasets\n",
    "    X_train, y_train, X_val, y_val, X_test, y_test = TF_IDF()\n",
    "    _, n_features = X_train.shape\n",
    "\n",
    "    # training the model\n",
    "    model = train(epochs = 800)\n",
    "\n",
    "    test(n_features, model)"
   ]
  }
 ],
 "metadata": {
  "interpreter": {
   "hash": "31f2aee4e71d21fbe5cf8b01ff0e069b9275f58929596ceb00d14d90e3e16cd6"
  },
  "kernelspec": {
   "display_name": "Python 3.9.2 64-bit",
   "language": "python",
   "name": "python3"
  },
  "language_info": {
   "codemirror_mode": {
    "name": "ipython",
    "version": 3
   },
   "file_extension": ".py",
   "mimetype": "text/x-python",
   "name": "python",
   "nbconvert_exporter": "python",
   "pygments_lexer": "ipython3",
   "version": "3.9.2"
  },
  "orig_nbformat": 4
 },
 "nbformat": 4,
 "nbformat_minor": 2
}
