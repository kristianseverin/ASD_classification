{
 "cells": [
  {
   "cell_type": "markdown",
   "metadata": {},
   "source": [
    "This notebook works for loading and reshaping the Eigsti dataset."
   ]
  },
  {
   "cell_type": "code",
   "execution_count": 1,
   "metadata": {},
   "outputs": [
    {
     "name": "stdout",
     "output_type": "stream",
     "text": [
      "Defaulting to user installation because normal site-packages is not writeable\n",
      "Collecting pylangacq\n",
      "  Downloading pylangacq-0.17.0-py3-none-any.whl (65 kB)\n",
      "     ━━━━━━━━━━━━━━━━━━━━━━━━━━━━━━━━━━━━━━━ 65.2/65.2 kB 180.1 kB/s eta 0:00:00\n",
      "Requirement already satisfied: requests>=2.18.0 in /home/coder/.local/lib/python3.9/site-packages (from pylangacq) (2.28.1)\n",
      "Collecting tabulate[widechars]>=0.8.9\n",
      "  Downloading tabulate-0.9.0-py3-none-any.whl (35 kB)\n",
      "Requirement already satisfied: python-dateutil>=2.0.0 in /home/coder/.local/lib/python3.9/site-packages (from pylangacq) (2.8.2)\n",
      "Requirement already satisfied: six>=1.5 in /home/coder/.local/lib/python3.9/site-packages (from python-dateutil>=2.0.0->pylangacq) (1.16.0)\n",
      "Requirement already satisfied: idna<4,>=2.5 in /home/coder/.local/lib/python3.9/site-packages (from requests>=2.18.0->pylangacq) (3.3)\n",
      "Requirement already satisfied: certifi>=2017.4.17 in /home/coder/.local/lib/python3.9/site-packages (from requests>=2.18.0->pylangacq) (2022.6.15)\n",
      "Requirement already satisfied: urllib3<1.27,>=1.21.1 in /home/coder/.local/lib/python3.9/site-packages (from requests>=2.18.0->pylangacq) (1.26.9)\n",
      "Requirement already satisfied: charset-normalizer<3,>=2 in /home/coder/.local/lib/python3.9/site-packages (from requests>=2.18.0->pylangacq) (2.1.0)\n",
      "Requirement already satisfied: wcwidth in /home/coder/.local/lib/python3.9/site-packages (from tabulate[widechars]>=0.8.9->pylangacq) (0.2.5)\n",
      "Installing collected packages: tabulate, pylangacq\n",
      "Successfully installed pylangacq-0.17.0 tabulate-0.9.0\n"
     ]
    }
   ],
   "source": [
    "# LOADING THE REQUIRED PACKAGES\n",
    "import os\n",
    "os.system('pip install pylangacq')\n",
    "import pylangacq \n",
    "import pandas as pd\n",
    "from sklearn.model_selection import train_test_split"
   ]
  },
  {
   "cell_type": "code",
   "execution_count": 2,
   "metadata": {},
   "outputs": [],
   "source": [
    "# WRITING A FUNCTION FOR LOADING DATA\n",
    "# This function loads each file in the directory individually, and turns it into a dataframe. Then it creates columns for age,\n",
    "# id, and group. Finally, it binds the individual dataframes together.\n",
    "\n",
    "## Accessing single files\n",
    "def dataload(datapath):\n",
    "    df = pd.DataFrame()\n",
    "\n",
    "    for subject in os.listdir(datapath):\n",
    "        pylang_obj = pylangacq.read_chat(path = datapath, match = subject)\n",
    "        d = pd.DataFrame(pylang_obj.utterances())\n",
    "        d[\"age\"] = pylang_obj.ages(months=True)[0]\n",
    "        d[\"id\"] = pylang_obj.headers()[0]['PID']\n",
    "        d[\"group\"] = pylang_obj.headers()[0]['Participants']['CHI']['group']\n",
    "        df = pd.concat([df, d])\n",
    "\n",
    "    return(df)"
   ]
  },
  {
   "cell_type": "code",
   "execution_count": 3,
   "metadata": {},
   "outputs": [],
   "source": [
    "# RUNNING THE DATALOAD FUNCTION\n",
    "eigstig = dataload(os.path.join(\"..\", \"data\", \"eigstig\"))"
   ]
  },
  {
   "cell_type": "code",
   "execution_count": 4,
   "metadata": {},
   "outputs": [],
   "source": [
    "# CREATING A COLUMN WHERE EACH UTTERANCE IS A STRING\n",
    "# Accessing the word-keys in the nested dicts in the tokens column and appending them to a string in a new tokens column\n",
    "\n",
    "words = \"\"\n",
    "tokens2 = []\n",
    "\n",
    "for row in eigstig['tokens']:\n",
    "    for list in row:\n",
    "        #print(list['word'])\n",
    "        words += list['word'] + \" \"\n",
    "    tokens2.append(words)\n",
    "    words = \"\"\n",
    "\n",
    "eigstig['tokens2'] = tokens2"
   ]
  },
  {
   "cell_type": "code",
   "execution_count": 5,
   "metadata": {},
   "outputs": [],
   "source": [
    "# CLEANING THE DF\n",
    "# Dropping unnecessary columns\n",
    "eigstig = eigstig.drop(columns=['tokens'])\n",
    "eigstig = eigstig.drop(columns=['tiers'])\n",
    "eigstig = eigstig.drop(columns=['time_marks'])"
   ]
  },
  {
   "cell_type": "code",
   "execution_count": 6,
   "metadata": {},
   "outputs": [
    {
     "name": "stdout",
     "output_type": "stream",
     "text": [
      "['TD' 'DD' 'ASD']\n",
      "['TD' 'ASD']\n"
     ]
    }
   ],
   "source": [
    "# The dataset also has a group called DD (for developmental delay). These children have developmental delay, but not ASD. This group\n",
    "# will be filtered out.\n",
    "print(eigstig['group'].unique())\n",
    "\n",
    "# Dropping the rows from the DD group\n",
    "eigstig = eigstig[eigstig.group != 'DD']\n",
    "\n",
    "# Checking the variables\n",
    "print(eigstig['group'].unique())"
   ]
  },
  {
   "cell_type": "code",
   "execution_count": 7,
   "metadata": {},
   "outputs": [
    {
     "name": "stdout",
     "output_type": "stream",
     "text": [
      "['INV1' 'INV2' 'MOT' 'CHI' 'FAT' 'INV' 'MOM']\n"
     ]
    }
   ],
   "source": [
    "print(eigstig['participant'].unique())\n",
    "\n",
    "# Dropping the rows that are not participant == CHI\n",
    "eigstig = eigstig[eigstig.participant == 'CHI']\n",
    "\n",
    "# Dropping the column participant (since this is always CHI now)\n",
    "eigstig = eigstig.drop(columns=['participant'])\n",
    "\n",
    "# Dummy coding a diagnosis column\n",
    "eigstig['diagnosis'] = eigstig['group'].replace(\"TD\", 0)\n",
    "eigstig['diagnosis'] = eigstig['diagnosis'].replace(\"ASD\", 1)"
   ]
  },
  {
   "cell_type": "code",
   "execution_count": 8,
   "metadata": {},
   "outputs": [],
   "source": [
    "def preprocess_tokens(df):\n",
    "    \"\"\"This function removes weird and redundant characters and spaces\n",
    "    \"\"\"\n",
    "\n",
    "    # Remove punctuations and numbers\n",
    "    df['tokens2'] = df['tokens2'].str.replace('[^a-zA-Z]', ' ', regex=True)\n",
    "\n",
    "    # Single character removal\n",
    "    df['tokens2'] = df['tokens2'].str.replace(r\"\\s+[a-zA-Z]\\s+\", ' ', regex=True)\n",
    "\n",
    "    # Removing multiple spaces\n",
    "    df['tokens2'] = df['tokens2'].str.replace(r'\\s+', ' ', regex=True)\n",
    "\n",
    "    # Drop spaces created when deleting single period values\n",
    "    df = df[df.tokens2 != ' ']\n",
    "\n",
    "    return df\n",
    "\n",
    "eigstig = preprocess_tokens(eigstig)"
   ]
  },
  {
   "cell_type": "markdown",
   "metadata": {},
   "source": [
    "# Investigating the age groups of the data"
   ]
  },
  {
   "cell_type": "code",
   "execution_count": null,
   "metadata": {},
   "outputs": [],
   "source": [
    "# What is the age range in the data?:\n",
    "print(eigstig.min(axis=0))\n",
    "print(eigstig.max(axis=0))\n",
    "# the age range goes from 32.6 months to 78.3 months, or in years:\n",
    "print(32.6/12)\n",
    "print(78.3/12)\n",
    "# Age range: 2.7-6.5 years old"
   ]
  },
  {
   "cell_type": "code",
   "execution_count": 15,
   "metadata": {},
   "outputs": [
    {
     "name": "stdout",
     "output_type": "stream",
     "text": [
      "4869\n",
      "\n",
      "210\n",
      "2435\n",
      "1286\n",
      "729\n",
      "209\n"
     ]
    },
    {
     "data": {
      "text/plain": [
       "0    1730\n",
       "1     705\n",
       "Name: diagnosis, dtype: int64"
      ]
     },
     "execution_count": 15,
     "metadata": {},
     "output_type": "execute_result"
    }
   ],
   "source": [
    "\n",
    "# The age groups in months:\n",
    "eigstig_age2 = eigstig[(eigstig.age >= 24) & (eigstig.age < 36)]\n",
    "eigstig_age3 = eigstig[(eigstig.age >= 36) & (eigstig.age < 48)]\n",
    "eigstig_age4 = eigstig[(eigstig.age >= 48) & (eigstig.age < 60)]\n",
    "eigstig_age5 = eigstig[(eigstig.age >= 60) & (eigstig.age < 72)]\n",
    "eigstig_age6 = eigstig[(eigstig.age >= 72) & (eigstig.age < 84)]"
   ]
  },
  {
   "cell_type": "code",
   "execution_count": 21,
   "metadata": {},
   "outputs": [
    {
     "name": "stdout",
     "output_type": "stream",
     "text": [
      "4869\n",
      "\n",
      "210\n",
      "2435\n",
      "1286\n",
      "729\n",
      "209\n"
     ]
    },
    {
     "data": {
      "text/plain": [
       "1    2514\n",
       "0    2355\n",
       "Name: diagnosis, dtype: int64"
      ]
     },
     "execution_count": 21,
     "metadata": {},
     "output_type": "execute_result"
    }
   ],
   "source": [
    "# Inspecting the age groups\n",
    "print(len(eigstig))\n",
    "print(\"\")\n",
    "print(len(eigstig_age2))\n",
    "print(len(eigstig_age3))\n",
    "print(len(eigstig_age4))\n",
    "print(len(eigstig_age5))\n",
    "print(len(eigstig_age6))\n",
    "\n",
    "eigstig['diagnosis'].value_counts()\n"
   ]
  },
  {
   "cell_type": "markdown",
   "metadata": {},
   "source": [
    "# Preparing data for the models (Text and Label)"
   ]
  },
  {
   "cell_type": "code",
   "execution_count": 10,
   "metadata": {},
   "outputs": [],
   "source": [
    "# Creating a dataframe with only text and label features\n",
    "eigstig_text_label = eigstig.drop(columns=['age', 'id', 'group']).rename(columns = {'tokens2':'text', 'diagnosis':'label'})\n",
    "\n",
    "eigstig_text_label.to_csv('../data/dataframes/tester.csv', index = False)"
   ]
  }
 ],
 "metadata": {
  "interpreter": {
   "hash": "31f2aee4e71d21fbe5cf8b01ff0e069b9275f58929596ceb00d14d90e3e16cd6"
  },
  "kernelspec": {
   "display_name": "Python 3.9.2 64-bit",
   "language": "python",
   "name": "python3"
  },
  "language_info": {
   "codemirror_mode": {
    "name": "ipython",
    "version": 3
   },
   "file_extension": ".py",
   "mimetype": "text/x-python",
   "name": "python",
   "nbconvert_exporter": "python",
   "pygments_lexer": "ipython3",
   "version": "3.9.2"
  },
  "orig_nbformat": 4
 },
 "nbformat": 4,
 "nbformat_minor": 2
}
